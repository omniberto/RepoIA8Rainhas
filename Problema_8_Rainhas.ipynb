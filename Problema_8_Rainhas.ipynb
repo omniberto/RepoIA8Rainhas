{
 "cells": [
  {
   "cell_type": "markdown",
   "id": "1e4abf6a",
   "metadata": {},
   "source": [
    "# Resolução do problema das 8 Rainhas\n"
   ]
  },
  {
   "cell_type": "markdown",
   "id": "af091df1",
   "metadata": {},
   "source": [
    "__Alunos__: Emanuel Humberto Menezes Cerqueira, Adrielle Lima Novais"
   ]
  },
  {
   "cell_type": "code",
   "execution_count": 67,
   "id": "3b1a129d",
   "metadata": {},
   "outputs": [],
   "source": [
    "from tabuleiro import tabuleiro\n",
    "from heuristica import heuristica_agoritmo_guloso\n",
    "from backtracking import backtracking\n",
    "from random import choice"
   ]
  },
  {
   "cell_type": "code",
   "execution_count": 68,
   "id": "bdfa3220",
   "metadata": {},
   "outputs": [],
   "source": [
    "tabuleiro_backtracking = tabuleiro()\n",
    "tabuleiro_ganancioso = tabuleiro()"
   ]
  },
  {
   "cell_type": "markdown",
   "id": "6074a5da",
   "metadata": {},
   "source": [
    "# Entendo o Problema das n Rainhas\n",
    "O problema das _n_ rainhas consiste em dado um número _n_, tal que, _n_ ≥ 4, dispormos _n_ rainhas em um tabuleiro _n_ x _n_ de maneira que nenhuma rainha se ataque. O problema das _n_ rainhas é comumente utilizado para testar conhecimentos relacionados à uma busca usando Backtracking, mas não significa que esta seja a única forma de solucionar este problema. Para entendermos melhor este problema, podemos estipular um _n_ = 8, e buscaremos utilizar Backtracking e o Algoritmo Guloso para encontrar soluções possíveis para este problema.\n",
    "\n",
    "![8queens.jpg](8queens.jpg)\n",
    "\n",
    "Fonte: https://raw.githubusercontent.com/callumfrance/nQueens/master/8queens.jpg"
   ]
  },
  {
   "cell_type": "markdown",
   "id": "e05127a1",
   "metadata": {},
   "source": [
    "# Backtracking\n",
    "O Backtracking consiste em uma técnica de busca recursiva utilizada para resolver problemas possivelmente complexos, utilizando da recursão para analisar as possibilidades de escolha e conseguir chegar em uma resposta satisfatória. Seu funcionamento é muito similar a uma busca em profundidade, aplicado a uma estrutura de dados parecida com uma árvore, onde seus nós representam possíveis decisões a serem tomadas, tendo sua execução finalizada, quando um resultado satisfatório é encontrado, ou não há mais decisões a serem averiguadas."
   ]
  },
  {
   "cell_type": "markdown",
   "id": "614aea6a",
   "metadata": {},
   "source": [
    "# Algoritmo Guloso\n",
    "O algoritmo guloso ou ganacioso busca encontrar uma solução para problemas utilizando o menor custo possível, sempre focando em expandir a solução local com a próxima melhor escolha com menor custo de função heurística possível, mesmo que isso não leve ao caminho de melhor custo total para o determinado problema. Para o problema das 8 rainhas entretanto, o algoritmo acaba sendo bastante funcional, uma vez que a função heurística leva em conta somente a quantidade de conflitos para cada escolha, facilitando a obtenção de um resultado ideal."
   ]
  },
  {
   "cell_type": "markdown",
   "id": "4d11b4f4",
   "metadata": {},
   "source": [
    "### Backtracking\n",
    "A função do backtracking dará como resultado uma lista contendo todas as possíveis soluções, porém para exemplo, utilizaremos somente uma.\n",
    "Podemos então executar uma busca de soluções através do Backtracking:"
   ]
  },
  {
   "cell_type": "code",
   "execution_count": 69,
   "id": "310f942f",
   "metadata": {},
   "outputs": [],
   "source": [
    "solucoes_backtracking = backtracking()"
   ]
  },
  {
   "cell_type": "markdown",
   "id": "c986edc8",
   "metadata": {},
   "source": [
    "Pegaremos então uma das soluções"
   ]
  },
  {
   "cell_type": "code",
   "execution_count": 70,
   "id": "3fb5554d",
   "metadata": {},
   "outputs": [
    {
     "name": "stdout",
     "output_type": "stream",
     "text": [
      "Solução usando backtracking:\n",
      "[(0, 3), (1, 1), (2, 6), (3, 2), (4, 5), (5, 7), (6, 0), (7, 4)]\n"
     ]
    }
   ],
   "source": [
    "exemplo_solucao_backtracking = choice(solucoes_backtracking)\n",
    "print(\"Solução usando backtracking:\")\n",
    "print(exemplo_solucao_backtracking)"
   ]
  },
  {
   "cell_type": "markdown",
   "id": "f1082f24",
   "metadata": {},
   "source": [
    "### Algoritmo Guloso\n",
    "O algoritmo ganacioso também dará como resultado uma lista contendo todas as possíveis soluções, novamente, para exemplo, utilizaremos somente uma.\n",
    "Podemos então executar uma busca de soluções através da busca heurística:"
   ]
  },
  {
   "cell_type": "code",
   "execution_count": 71,
   "id": "635e7940",
   "metadata": {},
   "outputs": [],
   "source": [
    "solucoes_ganancioso = heuristica_agoritmo_guloso()"
   ]
  },
  {
   "cell_type": "markdown",
   "id": "914f8103",
   "metadata": {},
   "source": [
    "Pegando uma das soluções:"
   ]
  },
  {
   "cell_type": "code",
   "execution_count": null,
   "id": "250f3fa6",
   "metadata": {},
   "outputs": [
    {
     "name": "stdout",
     "output_type": "stream",
     "text": [
      "Possível Solução:\n",
      "[(0, 2), (1, 5), (2, 1), (3, 4), (4, 7), (5, 0), (6, 6), (7, 3)]\n"
     ]
    }
   ],
   "source": [
    "exemplo_solucao_ganancioso = choice(solucoes_ganancioso)\n",
    "print(\"Solução usando algoritmo ganacioso:\")\n",
    "print(exemplo_solucao_ganancioso)"
   ]
  },
  {
   "cell_type": "markdown",
   "id": "8ae3a4a4",
   "metadata": {},
   "source": [
    "Podemos então verificar as simulações dos tabuleiros:"
   ]
  },
  {
   "cell_type": "code",
   "execution_count": 73,
   "id": "d9f1bff5",
   "metadata": {},
   "outputs": [
    {
     "name": "stdout",
     "output_type": "stream",
     "text": [
      ". . . Q . . . . \n",
      ". Q . . . . . . \n",
      ". . . . . . Q . \n",
      ". . Q . . . . . \n",
      ". . . . . Q . . \n",
      ". . . . . . . Q \n",
      "Q . . . . . . . \n",
      ". . . . Q . . . \n"
     ]
    }
   ],
   "source": [
    "tabuleiro_backtracking.imprimir_tabuleiro(exemplo_solucao_backtracking)"
   ]
  },
  {
   "cell_type": "code",
   "execution_count": 74,
   "id": "f1c95598",
   "metadata": {},
   "outputs": [
    {
     "name": "stdout",
     "output_type": "stream",
     "text": [
      ". . Q . . . . . \n",
      ". . . . . Q . . \n",
      ". Q . . . . . . \n",
      ". . . . Q . . . \n",
      ". . . . . . . Q \n",
      "Q . . . . . . . \n",
      ". . . . . . Q . \n",
      ". . . Q . . . . \n"
     ]
    }
   ],
   "source": [
    "tabuleiro_ganancioso.imprimir_tabuleiro(exemplo_solucao_ganancioso)"
   ]
  },
  {
   "cell_type": "markdown",
   "id": "d6315aa5",
   "metadata": {},
   "source": [
    "Podemos comparar a quantidade de soluções entre os algoritmos:"
   ]
  },
  {
   "cell_type": "code",
   "execution_count": 75,
   "id": "e452527b",
   "metadata": {},
   "outputs": [
    {
     "name": "stdout",
     "output_type": "stream",
     "text": [
      "Quantidade de soluções encontradas pelo backtracking: 92\n",
      "Quantidade de soluções encontradas pelo algoritmo ganacioso: 92\n"
     ]
    }
   ],
   "source": [
    "print(\"Quantidade de soluções encontradas pelo backtracking:\", len(solucoes_backtracking))\n",
    "print(\"Quantidade de soluções encontradas pelo algoritmo ganacioso:\", len(solucoes_ganancioso))"
   ]
  },
  {
   "cell_type": "markdown",
   "id": "83b8a935",
   "metadata": {},
   "source": [
    "Podemos também comparar ambas as soluções, e verificar se retornaram as mesmas soluçõess:"
   ]
  },
  {
   "cell_type": "code",
   "execution_count": 76,
   "id": "295806b3",
   "metadata": {},
   "outputs": [
    {
     "name": "stdout",
     "output_type": "stream",
     "text": [
      "Possuem as mesmas soluções!\n"
     ]
    }
   ],
   "source": [
    "if(solucoes_backtracking == solucoes_ganancioso):\n",
    "    print(\"Possuem as mesmas soluções!\")"
   ]
  }
 ],
 "metadata": {
  "kernelspec": {
   "display_name": "Python 3",
   "language": "python",
   "name": "python3"
  },
  "language_info": {
   "codemirror_mode": {
    "name": "ipython",
    "version": 3
   },
   "file_extension": ".py",
   "mimetype": "text/x-python",
   "name": "python",
   "nbconvert_exporter": "python",
   "pygments_lexer": "ipython3",
   "version": "3.12.1"
  }
 },
 "nbformat": 4,
 "nbformat_minor": 5
}
