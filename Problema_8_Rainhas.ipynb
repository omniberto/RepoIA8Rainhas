{
 "cells": [
  {
   "cell_type": "markdown",
   "id": "1e4abf6a",
   "metadata": {},
   "source": [
    "# Resolução do problema das 8 Rainhas\n"
   ]
  },
  {
   "cell_type": "markdown",
   "id": "af091df1",
   "metadata": {},
   "source": [
    "__Alunos__: Emanuel Humberto Menezes Cerqueira, Adrielle"
   ]
  },
  {
   "cell_type": "code",
   "execution_count": null,
   "id": "c91fa204",
   "metadata": {},
   "outputs": [],
   "source": [
    "from tabuleiro import tabuleiro"
   ]
  }
 ],
 "metadata": {
  "language_info": {
   "name": "python"
  }
 },
 "nbformat": 4,
 "nbformat_minor": 5
}
